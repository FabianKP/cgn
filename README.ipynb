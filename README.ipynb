{
 "cells": [
  {
   "cell_type": "markdown",
   "metadata": {
    "collapsed": true,
    "pycharm": {
     "name": "#%% md\n"
    }
   },
   "source": [
    "CGN\n",
    "============\n",
    "\n",
    "**CGN** stands for \"Constrained Gauss-Newton method\".\n",
    "This package contains a **Python** implementation of the Gauss-Newton method for nonlinear, multi-parameter least-squares problems with nonlinear constraints. That is, **CGN** provides a method for solving constrained optimization problems of the form:\n",
    "\n",
    "$\n",
    "\\begin{align}\n",
    "\\min_{\\mathbf{x}_1 \\in \\mathbb R^{n_1}, \\ldots, \\mathbf{x}_p \\in \\mathbb R^{n_p}} \\quad & ||\\mathbf Q \\mathbf F(\\mathbf x_1, \\ldots, \\mathbf x_p)||_2^2\n",
    "+ \\beta_1 ||\\mathbf R1(\\mathbf x_1 - \\mathbf m_1)||_2^2 + \\ldots + \\beta_p ||\\mathbf R_p (\\mathbf x_p - \\mathbf m_p)||_2^2 \\\\\n",
    "\\text{subject to} \\quad & \\mathbf A \\mathbf x = \\mathbf b, \\quad \\mathbf C \\mathbf x \\geq d, \\quad \\mathbf G(\\mathbf x) = \\mathbf 0, \\quad \\mathbf H(\\mathbf x) \\geq \\mathbf 0, \\quad \\mathbf l \\leq \\mathbf x \\leq \\mathbf u, \\quad \\mathbf x = \\left(\\mathbf \\begin{matrix}\n",
    "\\mathbf x_1 \\\\ \\vdots \\\\ \\mathbf x_p\n",
    "\\end{matrix}\n",
    "\\right) \\in \\mathbb R^{n_1 + \\ldots + n_p}.\n",
    "\\end{align}\n",
    "$\n",
    "\n",
    "Installation\n",
    "============\n",
    "\n",
    "The [Installation Guide]() explains how the ``cgn`` package can be installed.\n",
    "\n",
    "\n",
    "Usage\n",
    "=====\n",
    "\n",
    "For some simple end-to-end use cases, see the [Examples](https://github.com/FabianKP/cgn/tree/main/examples). For a more detailed explanation of the interface to ``cgn``, see the [Tutorial](). For full details on the individual classes and functions, please refer to the [Documentation]()."
   ]
  }
 ],
 "metadata": {
  "kernelspec": {
   "display_name": "Python 3",
   "language": "python",
   "name": "python3"
  },
  "language_info": {
   "codemirror_mode": {
    "name": "ipython",
    "version": 2
   },
   "file_extension": ".py",
   "mimetype": "text/x-python",
   "name": "python",
   "nbconvert_exporter": "python",
   "pygments_lexer": "ipython2",
   "version": "2.7.6"
  }
 },
 "nbformat": 4,
 "nbformat_minor": 0
}