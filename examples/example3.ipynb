{
 "cells": [
  {
   "cell_type": "markdown",
   "metadata": {
    "collapsed": true,
    "pycharm": {
     "name": "#%% md\n"
    }
   },
   "source": [
    "Example 3\n",
    "=========\n",
    "\n",
    "The next example demonstrates the multi-parameter capabilities of ``cgn``. We are going to solve a nonlinear least-squares problem that depends on two parameters $x$ and $y$, where $x$ has to satisfy a nonlinear equality constraint, while $y$ is only nonnegativity constrained.\n",
    "\n",
    "$\n",
    "\\begin{align}\n",
    "\\min_{x \\in \\mathbb{R}^2, y \\in \\mathbb{R}} \\quad & ||F(x, y)||_2^2 + \\beta ||R(x - m)||_2^2\\\\\n",
    "\\text{s. t.} \\quad  & x_1 + x_1^3 + x_2 + x_2^2 = 0, \\quad y \\geq 0, \\\\\n",
    "\\text{where } \\quad & F(x) = \\left(\\begin{matrix}\n",
    "x_1 + e^{-x_2} + \\sqrt{y} \\\\\n",
    "x_1^2 + 2 x_2 + 1 - \\sqrt{y}\n",
    "\\end{matrix} \\right), \\\\\n",
    "& R = \\left( \\begin{matrix}\n",
    "1 & 2 \\\\\n",
    "3 & 4\n",
    "\\end{matrix} \\right), \\quad m = \\left(\\begin{matrix}\n",
    "1 \\\\ 1 \\\\\n",
    "\\end{matrix} \\right), \\quad \\beta = 0.1.\n",
    "\\end{align}\n",
    "$\n",
    "\n",
    "Let us start by implementing the required functions and their derivatives:"
   ]
  },
  {
   "cell_type": "code",
   "execution_count": 1,
   "outputs": [],
   "source": [
    "from math import exp, sqrt\n",
    "import numpy as np\n",
    "import cgn\n",
    "\n",
    "def F(x, y):\n",
    "    out = np.array([x[0] + exp(-x[1] + sqrt(y[0])),\n",
    "                    x[0] ** 2 + 2 * x[1] + 1 - sqrt(y[0])])\n",
    "    return out\n",
    "\n",
    "def DF(x, y):\n",
    "    jac = np.array([[1., -exp(-x[1]), 0.5 / sqrt(y[0])],\n",
    "                    [2 * x[0], 2., - 0.5 / sqrt(y[0])]])\n",
    "    return jac"
   ],
   "metadata": {
    "collapsed": false,
    "pycharm": {
     "name": "#%%\n"
    }
   }
  },
  {
   "cell_type": "markdown",
   "source": [
    "Next, we set up the inequality constraint, which only depends on $x$:"
   ],
   "metadata": {
    "collapsed": false,
    "pycharm": {
     "name": "#%% md\n"
    }
   }
  },
  {
   "cell_type": "code",
   "execution_count": 2,
   "outputs": [],
   "source": [
    "def g(x):\n",
    "    out = x[0] + x[0] ** 3 + x[1] + x[1] ** 2\n",
    "    return np.array([out])\n",
    "\n",
    "def Dg(x):\n",
    "    jac = np.array([1 + 3 * x[0] ** 2, 1. + 2 * x[1]]).reshape((1, 2))\n",
    "    return jac"
   ],
   "metadata": {
    "collapsed": false,
    "pycharm": {
     "name": "#%%\n"
    }
   }
  },
  {
   "cell_type": "markdown",
   "source": [
    "Next, we set up our ``cgn.Parameter`` objects."
   ],
   "metadata": {
    "collapsed": false,
    "pycharm": {
     "name": "#%% md\n"
    }
   }
  },
  {
   "cell_type": "code",
   "execution_count": 3,
   "outputs": [],
   "source": [
    "x = cgn.Parameter(name=\"x\", dim=2)\n",
    "y = cgn.Parameter(name=\"y\", dim=1)"
   ],
   "metadata": {
    "collapsed": false,
    "pycharm": {
     "name": "#%%\n"
    }
   }
  },
  {
   "cell_type": "markdown",
   "source": [
    "For ``x``, we have to specify the regularization term $\\beta ||R(x-m)||_2^2$:"
   ],
   "metadata": {
    "collapsed": false,
    "pycharm": {
     "name": "#%% md\n"
    }
   }
  },
  {
   "cell_type": "code",
   "execution_count": 4,
   "outputs": [],
   "source": [
    "x.regop = np.array([[1., 2.], [3., 4.]])\n",
    "x.mean = np.array([1., 1.])\n",
    "x.beta = 0.1"
   ],
   "metadata": {
    "collapsed": false,
    "pycharm": {
     "name": "#%%\n"
    }
   }
  },
  {
   "cell_type": "markdown",
   "source": [
    "The second parameter ``y`` is not regularized, but it has to satisfy the lower-bound constraint $y \\geq 0$:"
   ],
   "metadata": {
    "collapsed": false,
    "pycharm": {
     "name": "#%% md\n"
    }
   }
  },
  {
   "cell_type": "code",
   "execution_count": 5,
   "outputs": [],
   "source": [
    "y.lb = np.array([0.])"
   ],
   "metadata": {
    "collapsed": false,
    "pycharm": {
     "name": "#%%\n"
    }
   }
  },
  {
   "cell_type": "markdown",
   "source": [
    "With this setup, we can finally create our optimization problem and solve it with ``cgn``. For the initial guess, let's just try $x = [0, 0]$ and $y = 1$:"
   ],
   "metadata": {
    "collapsed": false,
    "pycharm": {
     "name": "#%% md\n"
    }
   }
  },
  {
   "cell_type": "code",
   "execution_count": 6,
   "outputs": [
    {
     "ename": "AssertionError",
     "evalue": "",
     "output_type": "error",
     "traceback": [
      "\u001B[0;31m---------------------------------------------------------------------------\u001B[0m",
      "\u001B[0;31mAssertionError\u001B[0m                            Traceback (most recent call last)",
      "\u001B[0;32m/tmp/ipykernel_5780/1812930431.py\u001B[0m in \u001B[0;36m<module>\u001B[0;34m\u001B[0m\n\u001B[1;32m      6\u001B[0m \u001B[0mx_start\u001B[0m \u001B[0;34m=\u001B[0m \u001B[0mnp\u001B[0m\u001B[0;34m.\u001B[0m\u001B[0marray\u001B[0m\u001B[0;34m(\u001B[0m\u001B[0;34m[\u001B[0m\u001B[0;36m0.\u001B[0m\u001B[0;34m,\u001B[0m \u001B[0;36m0.\u001B[0m\u001B[0;34m]\u001B[0m\u001B[0;34m)\u001B[0m\u001B[0;34m\u001B[0m\u001B[0;34m\u001B[0m\u001B[0m\n\u001B[1;32m      7\u001B[0m \u001B[0my_start\u001B[0m \u001B[0;34m=\u001B[0m \u001B[0mnp\u001B[0m\u001B[0;34m.\u001B[0m\u001B[0marray\u001B[0m\u001B[0;34m(\u001B[0m\u001B[0;34m[\u001B[0m\u001B[0;36m1.\u001B[0m\u001B[0;34m]\u001B[0m\u001B[0;34m)\u001B[0m\u001B[0;34m\u001B[0m\u001B[0;34m\u001B[0m\u001B[0m\n\u001B[0;32m----> 8\u001B[0;31m \u001B[0msolution\u001B[0m \u001B[0;34m=\u001B[0m \u001B[0msolver\u001B[0m\u001B[0;34m.\u001B[0m\u001B[0msolve\u001B[0m\u001B[0;34m(\u001B[0m\u001B[0mproblem\u001B[0m\u001B[0;34m=\u001B[0m\u001B[0mproblem\u001B[0m\u001B[0;34m,\u001B[0m \u001B[0mstarting_values\u001B[0m\u001B[0;34m=\u001B[0m\u001B[0;34m[\u001B[0m\u001B[0mx_start\u001B[0m\u001B[0;34m,\u001B[0m \u001B[0my_start\u001B[0m\u001B[0;34m]\u001B[0m\u001B[0;34m)\u001B[0m\u001B[0;34m\u001B[0m\u001B[0;34m\u001B[0m\u001B[0m\n\u001B[0m\u001B[1;32m      9\u001B[0m \u001B[0;34m\u001B[0m\u001B[0m\n\u001B[1;32m     10\u001B[0m \u001B[0mx_min\u001B[0m \u001B[0;34m=\u001B[0m \u001B[0msolution\u001B[0m\u001B[0;34m.\u001B[0m\u001B[0mminimizer\u001B[0m\u001B[0;34m(\u001B[0m\u001B[0;34m\"x\"\u001B[0m\u001B[0;34m)\u001B[0m\u001B[0;34m\u001B[0m\u001B[0;34m\u001B[0m\u001B[0m\n",
      "\u001B[0;32m~/pd/cgn/cgn/cgn.py\u001B[0m in \u001B[0;36msolve\u001B[0;34m(self, problem, starting_values)\u001B[0m\n\u001B[1;32m     44\u001B[0m             \u001B[0;32mraise\u001B[0m \u001B[0mValueError\u001B[0m\u001B[0;34m(\u001B[0m\u001B[0;34mf\"The starting value must satisfy the constraints with accuracy {self.options.ctol}\"\u001B[0m\u001B[0;34m)\u001B[0m\u001B[0;34m\u001B[0m\u001B[0;34m\u001B[0m\u001B[0m\n\u001B[1;32m     45\u001B[0m         \u001B[0;31m# Then, solve the CNLS problem using \"cnls_solve\".\u001B[0m\u001B[0;34m\u001B[0m\u001B[0;34m\u001B[0m\u001B[0m\n\u001B[0;32m---> 46\u001B[0;31m         \u001B[0mcnls_solution\u001B[0m \u001B[0;34m=\u001B[0m \u001B[0mcnls_solve\u001B[0m\u001B[0;34m(\u001B[0m\u001B[0mcnls\u001B[0m\u001B[0;34m=\u001B[0m\u001B[0mcnls\u001B[0m\u001B[0;34m,\u001B[0m \u001B[0mstart\u001B[0m\u001B[0;34m=\u001B[0m\u001B[0mx_start\u001B[0m\u001B[0;34m,\u001B[0m \u001B[0moptions\u001B[0m\u001B[0;34m=\u001B[0m\u001B[0mself\u001B[0m\u001B[0;34m.\u001B[0m\u001B[0moptions\u001B[0m\u001B[0;34m,\u001B[0m \u001B[0mlinesearch_options\u001B[0m\u001B[0;34m=\u001B[0m\u001B[0mself\u001B[0m\u001B[0;34m.\u001B[0m\u001B[0mlinesearch\u001B[0m\u001B[0;34m)\u001B[0m\u001B[0;34m\u001B[0m\u001B[0;34m\u001B[0m\u001B[0m\n\u001B[0m\u001B[1;32m     47\u001B[0m         \u001B[0;31m# Translate the solution of the CNLS problem to a solution of the orginal multi parameter problem.\u001B[0m\u001B[0;34m\u001B[0m\u001B[0;34m\u001B[0m\u001B[0m\n\u001B[1;32m     48\u001B[0m         \u001B[0msolution\u001B[0m \u001B[0;34m=\u001B[0m \u001B[0mtranslator\u001B[0m\u001B[0;34m.\u001B[0m\u001B[0mtranslate_solution\u001B[0m\u001B[0;34m(\u001B[0m\u001B[0mcnls_solution\u001B[0m\u001B[0;34m)\u001B[0m\u001B[0;34m\u001B[0m\u001B[0;34m\u001B[0m\u001B[0m\n",
      "\u001B[0;32m~/pd/cgn/cgn/cnls_solve/cnls_solve.py\u001B[0m in \u001B[0;36mcnls_solve\u001B[0;34m(cnls, start, options, linesearch_options)\u001B[0m\n\u001B[1;32m     21\u001B[0m     \u001B[0mconstrained_gauss_newton\u001B[0m \u001B[0;34m=\u001B[0m \u001B[0mConstrainedGaussNewton\u001B[0m\u001B[0;34m(\u001B[0m\u001B[0mcnls\u001B[0m\u001B[0;34m,\u001B[0m \u001B[0moptions\u001B[0m\u001B[0;34m,\u001B[0m \u001B[0mlinesearch_options\u001B[0m\u001B[0;34m)\u001B[0m\u001B[0;34m\u001B[0m\u001B[0;34m\u001B[0m\u001B[0m\n\u001B[1;32m     22\u001B[0m     \u001B[0;31m# Solve the CNLS problem using the Constrained Gauss-Newton Method.\u001B[0m\u001B[0;34m\u001B[0m\u001B[0;34m\u001B[0m\u001B[0m\n\u001B[0;32m---> 23\u001B[0;31m     \u001B[0mcnls_solution\u001B[0m \u001B[0;34m=\u001B[0m \u001B[0mconstrained_gauss_newton\u001B[0m\u001B[0;34m.\u001B[0m\u001B[0msolve\u001B[0m\u001B[0;34m(\u001B[0m\u001B[0mstart\u001B[0m\u001B[0;34m=\u001B[0m\u001B[0mstart\u001B[0m\u001B[0;34m)\u001B[0m\u001B[0;34m\u001B[0m\u001B[0;34m\u001B[0m\u001B[0m\n\u001B[0m\u001B[1;32m     24\u001B[0m     \u001B[0;32mreturn\u001B[0m \u001B[0mcnls_solution\u001B[0m\u001B[0;34m\u001B[0m\u001B[0;34m\u001B[0m\u001B[0m\n",
      "\u001B[0;32m~/pd/cgn/cgn/cnls_solve/constrained_gauss_newton.py\u001B[0m in \u001B[0;36msolve\u001B[0;34m(self, start)\u001B[0m\n\u001B[1;32m     54\u001B[0m             \u001B[0mt0\u001B[0m \u001B[0;34m=\u001B[0m \u001B[0mtime\u001B[0m\u001B[0;34m(\u001B[0m\u001B[0;34m)\u001B[0m\u001B[0;34m\u001B[0m\u001B[0;34m\u001B[0m\u001B[0m\n\u001B[1;32m     55\u001B[0m             \u001B[0;31m# obtain step direction p by solving the linearized subproblem\u001B[0m\u001B[0;34m\u001B[0m\u001B[0;34m\u001B[0m\u001B[0m\n\u001B[0;32m---> 56\u001B[0;31m             \u001B[0mp\u001B[0m \u001B[0;34m=\u001B[0m \u001B[0mself\u001B[0m\u001B[0;34m.\u001B[0m\u001B[0m_solve_subproblem\u001B[0m\u001B[0;34m(\u001B[0m\u001B[0mstate\u001B[0m\u001B[0;34m)\u001B[0m\u001B[0;34m\u001B[0m\u001B[0;34m\u001B[0m\u001B[0m\n\u001B[0m\u001B[1;32m     57\u001B[0m             \u001B[0;31m# obtain next position from the Wächter-Biegler linesearch\u001B[0m\u001B[0;34m\u001B[0m\u001B[0;34m\u001B[0m\u001B[0m\n\u001B[1;32m     58\u001B[0m             \u001B[0mstate\u001B[0m\u001B[0;34m,\u001B[0m \u001B[0mcurrent_cost\u001B[0m\u001B[0;34m,\u001B[0m \u001B[0maborted\u001B[0m\u001B[0;34m,\u001B[0m \u001B[0mh\u001B[0m \u001B[0;34m=\u001B[0m \u001B[0mself\u001B[0m\u001B[0;34m.\u001B[0m\u001B[0m_linesearch\u001B[0m\u001B[0;34m.\u001B[0m\u001B[0mnext_position\u001B[0m\u001B[0;34m(\u001B[0m\u001B[0mstate\u001B[0m\u001B[0;34m,\u001B[0m \u001B[0mp\u001B[0m\u001B[0;34m,\u001B[0m \u001B[0mself\u001B[0m\u001B[0;34m.\u001B[0m\u001B[0m_cost_gradient\u001B[0m\u001B[0;34m(\u001B[0m\u001B[0mstate\u001B[0m\u001B[0;34m)\u001B[0m\u001B[0;34m)\u001B[0m\u001B[0;34m\u001B[0m\u001B[0;34m\u001B[0m\u001B[0m\n",
      "\u001B[0;32m~/pd/cgn/cgn/cnls_solve/constrained_gauss_newton.py\u001B[0m in \u001B[0;36m_solve_subproblem\u001B[0;34m(self, state)\u001B[0m\n\u001B[1;32m    147\u001B[0m             \u001B[0mthe\u001B[0m \u001B[0mdirection\u001B[0m \u001B[0;32mfor\u001B[0m \u001B[0mthe\u001B[0m \u001B[0mnext\u001B[0m \u001B[0mstep\u001B[0m\u001B[0;34m\u001B[0m\u001B[0;34m\u001B[0m\u001B[0m\n\u001B[1;32m    148\u001B[0m         \"\"\"\n\u001B[0;32m--> 149\u001B[0;31m         \u001B[0mlinear_subproblem\u001B[0m \u001B[0;34m=\u001B[0m \u001B[0mself\u001B[0m\u001B[0;34m.\u001B[0m\u001B[0m_linearize\u001B[0m\u001B[0;34m(\u001B[0m\u001B[0mstate\u001B[0m\u001B[0;34m)\u001B[0m\u001B[0;34m\u001B[0m\u001B[0;34m\u001B[0m\u001B[0m\n\u001B[0m\u001B[1;32m    150\u001B[0m         \u001B[0mdelta_x\u001B[0m \u001B[0;34m=\u001B[0m \u001B[0mcls_solve\u001B[0m\u001B[0;34m(\u001B[0m\u001B[0mlinear_subproblem\u001B[0m\u001B[0;34m)\u001B[0m\u001B[0;34m\u001B[0m\u001B[0;34m\u001B[0m\u001B[0m\n\u001B[1;32m    151\u001B[0m         \u001B[0;32mreturn\u001B[0m \u001B[0mdelta_x\u001B[0m\u001B[0;34m\u001B[0m\u001B[0;34m\u001B[0m\u001B[0m\n",
      "\u001B[0;32m~/pd/cgn/cgn/cnls_solve/constrained_gauss_newton.py\u001B[0m in \u001B[0;36m_linearize\u001B[0;34m(self, state)\u001B[0m\n\u001B[1;32m    191\u001B[0m             \u001B[0mh\u001B[0m \u001B[0;34m=\u001B[0m \u001B[0mnp\u001B[0m\u001B[0;34m.\u001B[0m\u001B[0mconcatenate\u001B[0m\u001B[0;34m(\u001B[0m\u001B[0;34m(\u001B[0m\u001B[0mj\u001B[0m\u001B[0;34m,\u001B[0m \u001B[0mp\u001B[0m\u001B[0;34m)\u001B[0m\u001B[0;34m,\u001B[0m \u001B[0maxis\u001B[0m\u001B[0;34m=\u001B[0m\u001B[0;36m0\u001B[0m\u001B[0;34m)\u001B[0m\u001B[0;34m\u001B[0m\u001B[0;34m\u001B[0m\u001B[0m\n\u001B[1;32m    192\u001B[0m             \u001B[0my\u001B[0m \u001B[0;34m=\u001B[0m \u001B[0;34m-\u001B[0m \u001B[0mnp\u001B[0m\u001B[0;34m.\u001B[0m\u001B[0mhstack\u001B[0m\u001B[0;34m(\u001B[0m\u001B[0;34m(\u001B[0m\u001B[0mf\u001B[0m\u001B[0;34m,\u001B[0m \u001B[0mstate\u001B[0m\u001B[0;34m.\u001B[0m\u001B[0mw\u001B[0m\u001B[0;34m)\u001B[0m\u001B[0;34m)\u001B[0m\u001B[0;34m\u001B[0m\u001B[0;34m\u001B[0m\u001B[0m\n\u001B[0;32m--> 193\u001B[0;31m         \u001B[0mlinear_subproblem\u001B[0m \u001B[0;34m=\u001B[0m \u001B[0mCLS\u001B[0m\u001B[0;34m(\u001B[0m\u001B[0mh\u001B[0m\u001B[0;34m=\u001B[0m\u001B[0mh\u001B[0m\u001B[0;34m,\u001B[0m \u001B[0my\u001B[0m\u001B[0;34m=\u001B[0m\u001B[0my\u001B[0m\u001B[0;34m,\u001B[0m \u001B[0ma\u001B[0m\u001B[0;34m=\u001B[0m\u001B[0ma\u001B[0m\u001B[0;34m,\u001B[0m \u001B[0mb\u001B[0m\u001B[0;34m=\u001B[0m\u001B[0mb\u001B[0m\u001B[0;34m,\u001B[0m \u001B[0mc\u001B[0m\u001B[0;34m=\u001B[0m\u001B[0mc\u001B[0m\u001B[0;34m,\u001B[0m \u001B[0md\u001B[0m\u001B[0;34m=\u001B[0m\u001B[0md\u001B[0m\u001B[0;34m,\u001B[0m \u001B[0ml\u001B[0m\u001B[0;34m=\u001B[0m\u001B[0mlb\u001B[0m\u001B[0;34m,\u001B[0m \u001B[0mu\u001B[0m\u001B[0;34m=\u001B[0m\u001B[0mub\u001B[0m\u001B[0;34m,\u001B[0m \u001B[0mscale\u001B[0m\u001B[0;34m=\u001B[0m\u001B[0mself\u001B[0m\u001B[0;34m.\u001B[0m\u001B[0m_cnls\u001B[0m\u001B[0;34m.\u001B[0m\u001B[0mscale\u001B[0m\u001B[0;34m)\u001B[0m\u001B[0;34m\u001B[0m\u001B[0;34m\u001B[0m\u001B[0m\n\u001B[0m\u001B[1;32m    194\u001B[0m         \u001B[0;32mreturn\u001B[0m \u001B[0mlinear_subproblem\u001B[0m\u001B[0;34m\u001B[0m\u001B[0;34m\u001B[0m\u001B[0m\n\u001B[1;32m    195\u001B[0m \u001B[0;34m\u001B[0m\u001B[0m\n",
      "\u001B[0;32m~/pd/cgn/cgn/cls_solve/cls.py\u001B[0m in \u001B[0;36m__init__\u001B[0;34m(self, h, y, a, b, c, d, l, u, scale)\u001B[0m\n\u001B[1;32m     17\u001B[0m                  \u001B[0mc\u001B[0m\u001B[0;34m:\u001B[0m \u001B[0mnp\u001B[0m\u001B[0;34m.\u001B[0m\u001B[0mndarray\u001B[0m \u001B[0;34m=\u001B[0m \u001B[0;32mNone\u001B[0m\u001B[0;34m,\u001B[0m \u001B[0md\u001B[0m\u001B[0;34m:\u001B[0m \u001B[0mnp\u001B[0m\u001B[0;34m.\u001B[0m\u001B[0mndarray\u001B[0m \u001B[0;34m=\u001B[0m \u001B[0;32mNone\u001B[0m\u001B[0;34m,\u001B[0m\u001B[0;34m\u001B[0m\u001B[0;34m\u001B[0m\u001B[0m\n\u001B[1;32m     18\u001B[0m                  l: np.ndarray = None, u: np.ndarray = None, scale: float = 1.):\n\u001B[0;32m---> 19\u001B[0;31m         \u001B[0mself\u001B[0m\u001B[0;34m.\u001B[0m\u001B[0m_check_consistency\u001B[0m\u001B[0;34m(\u001B[0m\u001B[0mh\u001B[0m\u001B[0;34m,\u001B[0m \u001B[0my\u001B[0m\u001B[0;34m,\u001B[0m \u001B[0ma\u001B[0m\u001B[0;34m,\u001B[0m \u001B[0mb\u001B[0m\u001B[0;34m,\u001B[0m \u001B[0mc\u001B[0m\u001B[0;34m,\u001B[0m \u001B[0md\u001B[0m\u001B[0;34m,\u001B[0m \u001B[0ml\u001B[0m\u001B[0;34m,\u001B[0m \u001B[0mu\u001B[0m\u001B[0;34m)\u001B[0m\u001B[0;34m\u001B[0m\u001B[0;34m\u001B[0m\u001B[0m\n\u001B[0m\u001B[1;32m     20\u001B[0m         \u001B[0mself\u001B[0m\u001B[0;34m.\u001B[0m\u001B[0mh\u001B[0m \u001B[0;34m=\u001B[0m \u001B[0mh\u001B[0m \u001B[0;34m/\u001B[0m \u001B[0msqrt\u001B[0m\u001B[0;34m(\u001B[0m\u001B[0mscale\u001B[0m\u001B[0;34m)\u001B[0m\u001B[0;34m\u001B[0m\u001B[0;34m\u001B[0m\u001B[0m\n\u001B[1;32m     21\u001B[0m         \u001B[0mself\u001B[0m\u001B[0;34m.\u001B[0m\u001B[0my\u001B[0m \u001B[0;34m=\u001B[0m \u001B[0my\u001B[0m \u001B[0;34m/\u001B[0m \u001B[0msqrt\u001B[0m\u001B[0;34m(\u001B[0m\u001B[0mscale\u001B[0m\u001B[0;34m)\u001B[0m\u001B[0;34m\u001B[0m\u001B[0;34m\u001B[0m\u001B[0m\n",
      "\u001B[0;32m~/pd/cgn/cgn/cls_solve/cls.py\u001B[0m in \u001B[0;36m_check_consistency\u001B[0;34m(self, h, y, a, b, c, d, l, u)\u001B[0m\n\u001B[1;32m     41\u001B[0m     \u001B[0;32mdef\u001B[0m \u001B[0m_check_consistency\u001B[0m\u001B[0;34m(\u001B[0m\u001B[0mself\u001B[0m\u001B[0;34m,\u001B[0m \u001B[0mh\u001B[0m\u001B[0;34m,\u001B[0m \u001B[0my\u001B[0m\u001B[0;34m,\u001B[0m \u001B[0ma\u001B[0m\u001B[0;34m,\u001B[0m \u001B[0mb\u001B[0m\u001B[0;34m,\u001B[0m \u001B[0mc\u001B[0m\u001B[0;34m,\u001B[0m \u001B[0md\u001B[0m\u001B[0;34m,\u001B[0m \u001B[0ml\u001B[0m\u001B[0;34m,\u001B[0m \u001B[0mu\u001B[0m\u001B[0;34m)\u001B[0m\u001B[0;34m:\u001B[0m\u001B[0;34m\u001B[0m\u001B[0;34m\u001B[0m\u001B[0m\n\u001B[1;32m     42\u001B[0m         \u001B[0mm\u001B[0m\u001B[0;34m,\u001B[0m \u001B[0mn\u001B[0m \u001B[0;34m=\u001B[0m \u001B[0mh\u001B[0m\u001B[0;34m.\u001B[0m\u001B[0mshape\u001B[0m\u001B[0;34m\u001B[0m\u001B[0;34m\u001B[0m\u001B[0m\n\u001B[0;32m---> 43\u001B[0;31m         \u001B[0;32massert\u001B[0m \u001B[0my\u001B[0m\u001B[0;34m.\u001B[0m\u001B[0mshape\u001B[0m \u001B[0;34m==\u001B[0m \u001B[0;34m(\u001B[0m\u001B[0mm\u001B[0m\u001B[0;34m,\u001B[0m \u001B[0;34m)\u001B[0m\u001B[0;34m\u001B[0m\u001B[0;34m\u001B[0m\u001B[0m\n\u001B[0m\u001B[1;32m     44\u001B[0m         \u001B[0mself\u001B[0m\u001B[0;34m.\u001B[0m\u001B[0m_check_constraint\u001B[0m\u001B[0;34m(\u001B[0m\u001B[0ma\u001B[0m\u001B[0;34m,\u001B[0m \u001B[0mb\u001B[0m\u001B[0;34m,\u001B[0m \u001B[0mn\u001B[0m\u001B[0;34m)\u001B[0m\u001B[0;34m\u001B[0m\u001B[0;34m\u001B[0m\u001B[0m\n\u001B[1;32m     45\u001B[0m         \u001B[0mself\u001B[0m\u001B[0;34m.\u001B[0m\u001B[0m_check_constraint\u001B[0m\u001B[0;34m(\u001B[0m\u001B[0mc\u001B[0m\u001B[0;34m,\u001B[0m \u001B[0md\u001B[0m\u001B[0;34m,\u001B[0m \u001B[0mn\u001B[0m\u001B[0;34m)\u001B[0m\u001B[0;34m\u001B[0m\u001B[0;34m\u001B[0m\u001B[0m\n",
      "\u001B[0;31mAssertionError\u001B[0m: "
     ]
    }
   ],
   "source": [
    "inequality_constraint = cgn.NonlinearConstraint(parameters=[x], fun=g, jac=Dg, ctype=\"ineq\")\n",
    "\n",
    "problem = cgn.Problem(parameters=[x, y], fun=F, jac=DF, constraints=[inequality_constraint])\n",
    "solver = cgn.CGN()\n",
    "\n",
    "x_start = np.array([0., 0.])\n",
    "y_start = np.array([1.])\n",
    "solution = solver.solve(problem=problem, starting_values=[x_start, y_start])\n",
    "\n",
    "x_min = solution.minimizer(\"x\")\n",
    "y_min = solution.minimizer(\"y\")\n",
    "print(f\"x_min = {x_min}\")\n",
    "print(f\"y_min = {y_min}\")"
   ],
   "metadata": {
    "collapsed": false,
    "pycharm": {
     "name": "#%%\n"
    }
   }
  }
 ],
 "metadata": {
  "kernelspec": {
   "display_name": "Python 3",
   "language": "python",
   "name": "python3"
  },
  "language_info": {
   "codemirror_mode": {
    "name": "ipython",
    "version": 2
   },
   "file_extension": ".py",
   "mimetype": "text/x-python",
   "name": "python",
   "nbconvert_exporter": "python",
   "pygments_lexer": "ipython2",
   "version": "2.7.6"
  }
 },
 "nbformat": 4,
 "nbformat_minor": 0
}