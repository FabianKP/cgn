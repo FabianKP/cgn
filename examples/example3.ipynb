{
 "cells": [
  {
   "cell_type": "markdown",
   "metadata": {
    "collapsed": true,
    "pycharm": {
     "name": "#%% md\n"
    }
   },
   "source": [
    "Example 3\n",
    "=========\n",
    "\n",
    "The next example demonstrates the multi-parameter capabilities of ``cgn``. We are going to solve a nonlinear least-squares problem that depends on two parameters $x$ and $y$, where $x$ has to satisfy a nonlinear equality constraint, while $y$ is only nonnegativity constrained.\n",
    "\n",
    "$\n",
    "\\begin{align}\n",
    "\\min_{x \\in \\mathbb{R}^2, y \\in \\mathbb{R}} \\quad & ||F(x, y)||_2^2 + \\beta ||R(x - m)||_2^2\\\\\n",
    "\\text{s. t.} \\quad  & x_1 + x_1^3 + x_2 + x_2^2 = 0, \\quad y > 0, \\\\\n",
    "\\text{where } \\quad & F(x) = \\left(\\begin{matrix}\n",
    "x_1 + e^{-x_2} + \\sqrt{y} \\\\\n",
    "x_1^2 + 2 x_2 + 1 - \\sqrt{y}\n",
    "\\end{matrix} \\right), \\\\\n",
    "& R = \\left( \\begin{matrix}\n",
    "1 & 2 \\\\\n",
    "3 & 4\n",
    "\\end{matrix} \\right), \\quad m = \\left(\\begin{matrix}\n",
    "1 \\\\ 1 \\\\\n",
    "\\end{matrix} \\right), \\quad \\beta = 0.1.\n",
    "\\end{align}\n",
    "$\n",
    "\n",
    "Let us start by implementing the required functions and their derivatives:"
   ]
  },
  {
   "cell_type": "code",
   "execution_count": 17,
   "outputs": [],
   "source": [
    "from math import exp, sqrt\n",
    "import numpy as np\n",
    "import cgn\n",
    "\n",
    "def F(x, y):\n",
    "    out = np.array([x[0] + exp(-x[1] + sqrt(y[0])),\n",
    "                    x[0] ** 2 + 2 * x[1] + 1 - sqrt(y[0])])\n",
    "    return out\n",
    "\n",
    "def DF(x, y):\n",
    "    jac = np.array([[1., -exp(-x[1]), 0.5 / sqrt(y[0])],\n",
    "                    [2 * x[0], 2., - 0.5 / sqrt(y[0])]])\n",
    "    return jac"
   ],
   "metadata": {
    "collapsed": false,
    "pycharm": {
     "name": "#%%\n"
    }
   }
  },
  {
   "cell_type": "markdown",
   "source": [
    "Next, we set up the inequality constraint, which only depends on $x$:"
   ],
   "metadata": {
    "collapsed": false,
    "pycharm": {
     "name": "#%% md\n"
    }
   }
  },
  {
   "cell_type": "code",
   "execution_count": 18,
   "outputs": [],
   "source": [
    "def g(x):\n",
    "    out = x[0] + x[0] ** 3 + x[1] + x[1] ** 2\n",
    "    return np.array([out])\n",
    "\n",
    "def Dg(x):\n",
    "    jac = np.array([1 + 3 * x[0] ** 2, 1. + 2 * x[1]]).reshape((1, 2))\n",
    "    return jac"
   ],
   "metadata": {
    "collapsed": false,
    "pycharm": {
     "name": "#%%\n"
    }
   }
  },
  {
   "cell_type": "markdown",
   "source": [
    "Next, we set up our ``cgn.Parameter`` objects. For the initial guess, let's just try $x = [0, 0]$ and $y = 1$:"
   ],
   "metadata": {
    "collapsed": false,
    "pycharm": {
     "name": "#%% md\n"
    }
   }
  },
  {
   "cell_type": "code",
   "execution_count": 19,
   "outputs": [],
   "source": [
    "x = cgn.Parameter(name=\"x\", start=np.zeros(2))\n",
    "y = cgn.Parameter(name=\"y\", start=np.ones(1))"
   ],
   "metadata": {
    "collapsed": false,
    "pycharm": {
     "name": "#%%\n"
    }
   }
  },
  {
   "cell_type": "markdown",
   "source": [
    "For ``x``, we have to specify the regularization term $\\beta ||R(x-m)||_2^2$:"
   ],
   "metadata": {
    "collapsed": false,
    "pycharm": {
     "name": "#%% md\n"
    }
   }
  },
  {
   "cell_type": "code",
   "execution_count": 20,
   "outputs": [],
   "source": [
    "x.regop = np.array([[1., 2.], [3., 4.]])\n",
    "x.mean = np.array([1., 1.])\n",
    "x.beta = 0.1"
   ],
   "metadata": {
    "collapsed": false,
    "pycharm": {
     "name": "#%%\n"
    }
   }
  },
  {
   "cell_type": "markdown",
   "source": [
    "The second parameter ``y`` is not regularized, but it has to satisfy the lower-bound constraint $y > 0$. We implement this strict inequality constraint as an equality constraint\n",
    "$y \\geq \\epsilon$ for a small, positive $\\epsilon > 0$."
   ],
   "metadata": {
    "collapsed": false,
    "pycharm": {
     "name": "#%% md\n"
    }
   }
  },
  {
   "cell_type": "code",
   "execution_count": 21,
   "outputs": [],
   "source": [
    "eps = 1e-10\n",
    "y.lb = np.array([eps])"
   ],
   "metadata": {
    "collapsed": false,
    "pycharm": {
     "name": "#%%\n"
    }
   }
  },
  {
   "cell_type": "markdown",
   "source": [
    "With this setup, we can finally create our optimization problem and solve it with ``cgn``."
   ],
   "metadata": {
    "collapsed": false,
    "pycharm": {
     "name": "#%% md\n"
    }
   }
  },
  {
   "cell_type": "code",
   "execution_count": 22,
   "outputs": [],
   "source": [
    "inequality_constraint = cgn.NonlinearConstraint(parameters=[x], fun=g, jac=Dg, ctype=\"ineq\")\n",
    "\n",
    "problem = cgn.Problem(parameters=[x, y], fun=F, jac=DF, constraints=[inequality_constraint])\n",
    "solver = cgn.CGN()\n",
    "\n",
    "solution = solver.solve(problem=problem)"
   ],
   "metadata": {
    "collapsed": false,
    "pycharm": {
     "name": "#%%\n"
    }
   }
  },
  {
   "cell_type": "markdown",
   "source": [
    "Seems to work without problems. Let us look at the minimizers:"
   ],
   "metadata": {
    "collapsed": false,
    "pycharm": {
     "name": "#%% md\n"
    }
   }
  },
  {
   "cell_type": "code",
   "execution_count": 23,
   "outputs": [
    {
     "name": "stdout",
     "output_type": "stream",
     "text": [
      "x_min = [-0.00522749  0.83669584]\n",
      "y_min = [1.02461374]\n"
     ]
    }
   ],
   "source": [
    "\n",
    "x_min = solution.minimizer(\"x\")\n",
    "y_min = solution.minimizer(\"y\")\n",
    "print(f\"x_min = {x_min}\")\n",
    "print(f\"y_min = {y_min}\")"
   ],
   "metadata": {
    "collapsed": false,
    "pycharm": {
     "name": "#%%\n"
    }
   }
  }
 ],
 "metadata": {
  "kernelspec": {
   "display_name": "Python 3",
   "language": "python",
   "name": "python3"
  },
  "language_info": {
   "codemirror_mode": {
    "name": "ipython",
    "version": 2
   },
   "file_extension": ".py",
   "mimetype": "text/x-python",
   "name": "python",
   "nbconvert_exporter": "python",
   "pygments_lexer": "ipython2",
   "version": "2.7.6"
  }
 },
 "nbformat": 4,
 "nbformat_minor": 0
}