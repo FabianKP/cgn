{
 "cells": [
  {
   "cell_type": "markdown",
   "metadata": {
    "collapsed": true,
    "pycharm": {
     "name": "#%% md\n"
    }
   },
   "source": [
    "Example 3\n",
    "=========\n",
    "\n",
    "The next example demonstrates the multi-parameter capabilities of ``cgn``. We are going to solve a nonlinear least-squares problem that depends on two parameters $x$ and $y$, where $x$ has to satisfy a nonlinear equality constraint, while $y$ is only nonnegativity constrained.\n",
    "\n",
    "$\n",
    "\\begin{align}\n",
    "\\min_{x \\in \\mathbb{R}^2, y \\in \\mathbb{R}} \\quad & ||F(x, y)||_2^2 \\\\\n",
    "\\text{s. t.} \\quad  & x_1 + x_1^3 + x_2 + x_2^2 = 0, \\quad y \\geq 0, \\\\\n",
    "\\text{where } \\quad & F(x) = \\left(\\begin{matrix}\n",
    "x_1 + e^{-x_2} + \\sqrt{y} \\\\\n",
    "x_1^2 + 2 x_2 + 1 - \\sqrt{y}\n",
    "\\end{matrix} \\right)\n",
    "\\end{align}\n",
    "$\n",
    "\n",
    "Let us start by implementing $F$ and its Jacobian:"
   ]
  },
  {
   "cell_type": "code",
   "execution_count": 14,
   "outputs": [],
   "source": [
    "from math import exp, sqrt\n",
    "import numpy as np\n",
    "\n",
    "def F(x, y):\n",
    "    out = np.array([x[0] + exp(-x[1] + sqrt(y[0])),\n",
    "                    x[0] ** 2 + 2 * x[1] + 1 - sqrt(y[0])])\n",
    "    return out\n",
    "\n",
    "def DF(x, y):\n",
    "    jac = np.array([[1., - exp(-x[1]), 0.5 / sqrt(y[0])],\n",
    "                    [2 * x[0], 2., - 0.5 / sqrt(y[0])]])\n",
    "    return jac"
   ],
   "metadata": {
    "collapsed": false,
    "pycharm": {
     "name": "#%%\n"
    }
   }
  }
 ],
 "metadata": {
  "kernelspec": {
   "display_name": "Python 3",
   "language": "python",
   "name": "python3"
  },
  "language_info": {
   "codemirror_mode": {
    "name": "ipython",
    "version": 2
   },
   "file_extension": ".py",
   "mimetype": "text/x-python",
   "name": "python",
   "nbconvert_exporter": "python",
   "pygments_lexer": "ipython2",
   "version": "2.7.6"
  }
 },
 "nbformat": 4,
 "nbformat_minor": 0
}