{
 "cells": [
  {
   "cell_type": "markdown",
   "metadata": {
    "collapsed": true,
    "pycharm": {
     "name": "#%% md\n"
    }
   },
   "source": [
    "Example 1\n",
    "=========\n",
    "\n",
    "Let us test ``cgn`` on a simple unconstrained linear least-squares problem. As an example, we use problem 32 from the article\n",
    "\n",
    "More, J., Garbox, B. and Hillstrom, E. \"Testing Unconstrained Optimization Software\", 1981.\n",
    "\n",
    "The problem is as follows:\n",
    "\n",
    "$\n",
    "\\begin{align}\n",
    "\\min_{x \\in \\mathbb R^n} & ||F(x)||_2^2 + ||x||_2^2, \\\\\n",
    "\\text{where} \\quad & F(x)_j = x_j - \\frac{2}{m} \\sum_{i=1}^n x_i - 1, \\quad \\text{for } 1 \\leq j \\leq n, \\\\\n",
    "& F(x)_j = - \\frac{2}{m} \\sum_{i=1}^n x_i - 1, \\quad \\text{for } n < j <= m.\n",
    "\\end{align}\n",
    "$\n",
    "\n",
    "with $m >= n$. Let us choose $n=200$ and $m=400$."
   ]
  },
  {
   "cell_type": "markdown",
   "source": [
    "First, we implement the affine misfit function $F=F(x)$."
   ],
   "metadata": {
    "collapsed": false
   }
  },
  {
   "cell_type": "code",
   "execution_count": 51,
   "outputs": [],
   "source": [
    "import numpy as np\n",
    "\n",
    "m = 400\n",
    "n = 200\n",
    "\n",
    "def F(x):\n",
    "    z = np.zeros(m)\n",
    "    for i in range(n):\n",
    "        z[i] = x[i] - 2.0 * sum(x) / m - 1.\n",
    "    for i in range(n,m):\n",
    "        z[i] = - 2.0 * sum(x) / m - 1.\n",
    "    return z"
   ],
   "metadata": {
    "collapsed": false,
    "pycharm": {
     "name": "#%%\n"
    }
   }
  },
  {
   "cell_type": "markdown",
   "source": [
    "We also have to implement its Jacobian:\n"
   ],
   "metadata": {
    "collapsed": false,
    "pycharm": {
     "name": "#%% md\n"
    }
   }
  },
  {
   "cell_type": "code",
   "execution_count": 89,
   "outputs": [],
   "source": [
    "A = np.zeros((m,n))\n",
    "# upper half of the Jacobian matrix\n",
    "for i in range(n):\n",
    "    for j in range(n):\n",
    "        if i == j:\n",
    "            A[i,j] = 1.0 - 2.0 / m\n",
    "        else:\n",
    "            A[i,j] = -2.0 / m\n",
    "# lower half of the Jacobian matrix\n",
    "for i in  range(n,m):\n",
    "    for j in range(n):\n",
    "        A[i,j] = -2.0 / m\n",
    "\n",
    "def DF(x):\n",
    "    return A"
   ],
   "metadata": {
    "collapsed": false,
    "pycharm": {
     "name": "#%%\n"
    }
   }
  },
  {
   "cell_type": "markdown",
   "source": [
    "Let us now set up the ``cgn.Parameter`` object:"
   ],
   "metadata": {
    "collapsed": false,
    "pycharm": {
     "name": "#%% md\n"
    }
   }
  },
  {
   "cell_type": "code",
   "execution_count": 53,
   "outputs": [],
   "source": [
    "import cgn\n",
    "\n",
    "x = cgn.Parameter(dim=n, name=\"x\")"
   ],
   "metadata": {
    "collapsed": false,
    "pycharm": {
     "name": "#%%\n"
    }
   }
  },
  {
   "cell_type": "markdown",
   "source": [
    "We set up the regularization term by setting $\\beta = 1$. The regularization operator defaults to the identity, and the regularizing guess default to the zero vector."
   ],
   "metadata": {
    "collapsed": false
   }
  },
  {
   "cell_type": "code",
   "execution_count": 54,
   "outputs": [],
   "source": [
    "x.beta = 1."
   ],
   "metadata": {
    "collapsed": false,
    "pycharm": {
     "name": "#%%\n"
    }
   }
  },
  {
   "cell_type": "markdown",
   "source": [
    "Next, we can initialize the ``cgn.Problem`` object:"
   ],
   "metadata": {
    "collapsed": false,
    "pycharm": {
     "name": "#%% md\n"
    }
   }
  },
  {
   "cell_type": "code",
   "execution_count": 55,
   "outputs": [],
   "source": [
    "problem = cgn.Problem(parameters=[x], fun=F, jac=DF)"
   ],
   "metadata": {
    "collapsed": false,
    "pycharm": {
     "name": "#%%\n"
    }
   }
  },
  {
   "cell_type": "markdown",
   "source": [
    "Next, we initialize the solver..."
   ],
   "metadata": {
    "collapsed": false,
    "pycharm": {
     "name": "#%% md\n"
    }
   }
  },
  {
   "cell_type": "code",
   "execution_count": 56,
   "outputs": [],
   "source": [
    "solver = cgn.CGN()"
   ],
   "metadata": {
    "collapsed": false,
    "pycharm": {
     "name": "#%%\n"
    }
   }
  },
  {
   "cell_type": "markdown",
   "source": [
    "and solve the problem. As starting value we simply use the one vector."
   ],
   "metadata": {
    "collapsed": false,
    "pycharm": {
     "name": "#%% md\n"
    }
   }
  },
  {
   "cell_type": "code",
   "execution_count": 101,
   "outputs": [
    {
     "name": "stderr",
     "output_type": "stream",
     "text": [
      "\n",
      "\n",
      "Starting the constrained Gauss-Newton method. Cost at starting value: 600.0\n",
      "+-----------+-------------------------+-------------------------+-------------------------+-------------------------+-------------------------+\n",
      "| Iteration | Cost                    | Constraint violation    | Stepsize (||p||)        | Steplength (h)          | Computation time [s]    |\n",
      "+-----------+-------------------------+-------------------------+-------------------------+-------------------------+-------------------------+\n",
      "+-----------+-------------------------+-------------------------+-------------------------+-------------------------+-------------------------+\n",
      "|     1     |    150.00000000000017   |           0.0           |    21.213203435596412   |           1.0           |   0.008646965026855469  |\n",
      "+-----------+-------------------------+-------------------------+-------------------------+-------------------------+-------------------------+\n",
      "|     2     |    149.99999999999991   |           0.0           |  5.2338516063716614e-14 |           1.0           |   0.010660648345947266  |\n",
      "+-----------+-------------------------+-------------------------+-------------------------+-------------------------+-------------------------+\n",
      "The iteration converged successfully after 2 steps.\n",
      "Minimum of cost function: 149.99999999999991\n"
     ]
    }
   ],
   "source": [
    "x_start = np.ones(n)\n",
    "solver.options.set_verbosity(2)\n",
    "solution = solver.solve(problem=problem, starting_values=[x_start])"
   ],
   "metadata": {
    "collapsed": false,
    "pycharm": {
     "name": "#%%\n"
    }
   }
  },
  {
   "cell_type": "markdown",
   "source": [
    "Let us view the solution:"
   ],
   "metadata": {
    "collapsed": false,
    "pycharm": {
     "name": "#%% md\n"
    }
   }
  },
  {
   "cell_type": "code",
   "execution_count": 102,
   "outputs": [
    {
     "data": {
      "text/plain": "array([-0.5, -0.5, -0.5, -0.5, -0.5, -0.5, -0.5, -0.5, -0.5, -0.5, -0.5,\n       -0.5, -0.5, -0.5, -0.5, -0.5, -0.5, -0.5, -0.5, -0.5, -0.5, -0.5,\n       -0.5, -0.5, -0.5, -0.5, -0.5, -0.5, -0.5, -0.5, -0.5, -0.5, -0.5,\n       -0.5, -0.5, -0.5, -0.5, -0.5, -0.5, -0.5, -0.5, -0.5, -0.5, -0.5,\n       -0.5, -0.5, -0.5, -0.5, -0.5, -0.5, -0.5, -0.5, -0.5, -0.5, -0.5,\n       -0.5, -0.5, -0.5, -0.5, -0.5, -0.5, -0.5, -0.5, -0.5, -0.5, -0.5,\n       -0.5, -0.5, -0.5, -0.5, -0.5, -0.5, -0.5, -0.5, -0.5, -0.5, -0.5,\n       -0.5, -0.5, -0.5, -0.5, -0.5, -0.5, -0.5, -0.5, -0.5, -0.5, -0.5,\n       -0.5, -0.5, -0.5, -0.5, -0.5, -0.5, -0.5, -0.5, -0.5, -0.5, -0.5,\n       -0.5, -0.5, -0.5, -0.5, -0.5, -0.5, -0.5, -0.5, -0.5, -0.5, -0.5,\n       -0.5, -0.5, -0.5, -0.5, -0.5, -0.5, -0.5, -0.5, -0.5, -0.5, -0.5,\n       -0.5, -0.5, -0.5, -0.5, -0.5, -0.5, -0.5, -0.5, -0.5, -0.5, -0.5,\n       -0.5, -0.5, -0.5, -0.5, -0.5, -0.5, -0.5, -0.5, -0.5, -0.5, -0.5,\n       -0.5, -0.5, -0.5, -0.5, -0.5, -0.5, -0.5, -0.5, -0.5, -0.5, -0.5,\n       -0.5, -0.5, -0.5, -0.5, -0.5, -0.5, -0.5, -0.5, -0.5, -0.5, -0.5,\n       -0.5, -0.5, -0.5, -0.5, -0.5, -0.5, -0.5, -0.5, -0.5, -0.5, -0.5,\n       -0.5, -0.5, -0.5, -0.5, -0.5, -0.5, -0.5, -0.5, -0.5, -0.5, -0.5,\n       -0.5, -0.5, -0.5, -0.5, -0.5, -0.5, -0.5, -0.5, -0.5, -0.5, -0.5,\n       -0.5, -0.5])"
     },
     "execution_count": 102,
     "metadata": {},
     "output_type": "execute_result"
    }
   ],
   "source": [
    "x_min = solution.minimizer(\"x\")\n",
    "x_min"
   ],
   "metadata": {
    "collapsed": false,
    "pycharm": {
     "name": "#%%\n"
    }
   }
  },
  {
   "cell_type": "markdown",
   "source": [
    "Let us compare this solution to the one obtain with ridge regression:"
   ],
   "metadata": {
    "collapsed": false,
    "pycharm": {
     "name": "#%% md\n"
    }
   }
  },
  {
   "cell_type": "code",
   "execution_count": 103,
   "outputs": [
    {
     "name": "stdout",
     "output_type": "stream",
     "text": [
      "[[ 0.995 -0.005 -0.005 ... -0.005 -0.005 -0.005]\n",
      " [-0.005  0.995 -0.005 ... -0.005 -0.005 -0.005]\n",
      " [-0.005 -0.005  0.995 ... -0.005 -0.005 -0.005]\n",
      " ...\n",
      " [-0.005 -0.005 -0.005 ... -0.005 -0.005 -0.005]\n",
      " [-0.005 -0.005 -0.005 ... -0.005 -0.005 -0.005]\n",
      " [-0.005 -0.005 -0.005 ... -0.005 -0.005 -0.005]]\n",
      "Difference to ridge: 7.071067811865471\n"
     ]
    },
    {
     "data": {
      "text/plain": "array([0., 0., 0., 0., 0., 0., 0., 0., 0., 0., 0., 0., 0., 0., 0., 0., 0.,\n       0., 0., 0., 0., 0., 0., 0., 0., 0., 0., 0., 0., 0., 0., 0., 0., 0.,\n       0., 0., 0., 0., 0., 0., 0., 0., 0., 0., 0., 0., 0., 0., 0., 0., 0.,\n       0., 0., 0., 0., 0., 0., 0., 0., 0., 0., 0., 0., 0., 0., 0., 0., 0.,\n       0., 0., 0., 0., 0., 0., 0., 0., 0., 0., 0., 0., 0., 0., 0., 0., 0.,\n       0., 0., 0., 0., 0., 0., 0., 0., 0., 0., 0., 0., 0., 0., 0., 0., 0.,\n       0., 0., 0., 0., 0., 0., 0., 0., 0., 0., 0., 0., 0., 0., 0., 0., 0.,\n       0., 0., 0., 0., 0., 0., 0., 0., 0., 0., 0., 0., 0., 0., 0., 0., 0.,\n       0., 0., 0., 0., 0., 0., 0., 0., 0., 0., 0., 0., 0., 0., 0., 0., 0.,\n       0., 0., 0., 0., 0., 0., 0., 0., 0., 0., 0., 0., 0., 0., 0., 0., 0.,\n       0., 0., 0., 0., 0., 0., 0., 0., 0., 0., 0., 0., 0., 0., 0., 0., 0.,\n       0., 0., 0., 0., 0., 0., 0., 0., 0., 0., 0., 0., 0.])"
     },
     "execution_count": 103,
     "metadata": {},
     "output_type": "execute_result"
    }
   ],
   "source": [
    "from sklearn.linear_model import Ridge\n",
    "print(A)\n",
    "clf = Ridge(alpha=1.)\n",
    "y = np.ones(m)\n",
    "clf.fit(X=A, y=y)\n",
    "x_ridge = clf.coef_\n",
    "\n",
    "difference_to_ridge = np.linalg.norm(x_min - x_ridge)\n",
    "print(f\"Difference to ridge: {difference_to_ridge}\")\n",
    "x_ridge"
   ],
   "metadata": {
    "collapsed": false,
    "pycharm": {
     "name": "#%%\n"
    }
   }
  }
 ],
 "metadata": {
  "kernelspec": {
   "display_name": "Python 3",
   "language": "python",
   "name": "python3"
  },
  "language_info": {
   "codemirror_mode": {
    "name": "ipython",
    "version": 2
   },
   "file_extension": ".py",
   "mimetype": "text/x-python",
   "name": "python",
   "nbconvert_exporter": "python",
   "pygments_lexer": "ipython2",
   "version": "2.7.6"
  }
 },
 "nbformat": 4,
 "nbformat_minor": 0
}