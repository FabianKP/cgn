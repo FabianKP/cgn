{
 "cells": [
  {
   "cell_type": "markdown",
   "metadata": {
    "collapsed": true,
    "pycharm": {
     "name": "#%% md\n"
    }
   },
   "source": [
    "Example 2\n",
    "=========\n",
    "\n",
    "In this example, we are going to test ``cgn`` on a constrained version of the classic \"Osborne problem\" (taken from Wright and Holt, \"Algorithms for Nonlinear Least Squares with Linear Inequality Constraints\", SIAM Journal on Scientific and Statistical Computing, 1985):\n",
    "\n",
    "$\n",
    "\\begin{align}\n",
    "\\min_{x \\in \\mathbb R^{11}} \\quad & ||y - G(x)||_2^2 \\\\\n",
    "\\text{s. t.} \\quad & C x \\geq d, \\\\\n",
    "\\text{where } \\quad & G_j(x) = x_1 e^{-t_j x_5} + x_2 e^{-(t_j - x_9)^2 x_6}\n",
    " + x3 e^{-(t_j - x_{10})^2 x_7} + x_4 e^{-(t_j - x_{11})^2 x_8}, \\\\\n",
    "& t_j = \\frac{j}{10}, \\quad j=1,\\ldots, 65, \\\\\n",
    "& C = \\left( \\begin{matrix}\n",
    "1 & 2 & 3 & 4 \\\\\n",
    "1 & 1 & 0 & 0\n",
    "\\end{matrix} \\right), \\quad d = \\left( \\begin{matrix}\n",
    "6.270063 \\\\ 1.741584\n",
    "\\end{matrix} \\right)\n",
    "\\end{align}\n",
    "$\n",
    "\n",
    "This is a nonlinear least-squares problem with linear inequality constraints, and\n",
    "its solution is known to satisfy $||y - G(x_\\mathrm{min})||_2^2 = 0.0401377$.\n",
    "The data vector $y$ is given by\n"
   ]
  },
  {
   "cell_type": "code",
   "execution_count": 52,
   "outputs": [],
   "source": [
    "import numpy as np\n",
    "\n",
    "y = np.array([\n",
    "    1.366, 1.191, 1.112, 1.013, 0.991, 0.885, 0.831, 0.847, 0.786, 0.725,\n",
    "    0.746, 0.679, 0.608, 0.655, 0.616, 0.606, 0.602, 0.626, 0.651, 0.724,\n",
    "    0.649, 0.649, 0.694, 0.644, 0.624, 0.661, 0.612, 0.558, 0.533, 0.495,\n",
    "    0.500, 0.423, 0.395, 0.375, 0.372, 0.391, 0.396, 0.405, 0.428, 0.429,\n",
    "    0.523, 0.562, 0.607, 0.653, 0.672, 0.708, 0.633, 0.668, 0.645, 0.632,\n",
    "    0.591, 0.559, 0.597, 0.625, 0.739, 0.710, 0.729, 0.720, 0.636, 0.581,\n",
    "    0.428, 0.292, 0.162, 0.098, 0.054\n",
    "])"
   ],
   "metadata": {
    "collapsed": false,
    "pycharm": {
     "name": "#%%\n"
    }
   }
  },
  {
   "cell_type": "markdown",
   "source": [
    "Let us start with implementation of the function $G$ and its Jacobian."
   ],
   "metadata": {
    "collapsed": false,
    "pycharm": {
     "name": "#%% md\n"
    }
   }
  },
  {
   "cell_type": "code",
   "execution_count": 53,
   "outputs": [],
   "source": [
    "from math import exp\n",
    "\n",
    "m = 65\n",
    "n = 11\n",
    "\n",
    "t = np.zeros(m)\n",
    "for i in range(m):\n",
    "    t[i] = float(i/10)\n",
    "\n",
    "def G(x):\n",
    "    z = np.ones(m)\n",
    "    for i in range(m):\n",
    "            z[i] = x[0]*exp(-x[4]*t[i]) + x[1]*exp(-x[5]*((t[i]-x[8])**2)) \\\n",
    "                + x[2]*exp(-x[6]*((t[i]-x[9])**2)) + x[3]*exp(-x[7]*((t[i]-x[10])**2))\n",
    "    return z\n",
    "\n",
    "def DG(x):\n",
    "    jac = np.zeros((m, n))\n",
    "    for i in range(m):\n",
    "        for j in range(n):\n",
    "            jac[i, 0] = exp(-x[4] * t[i])\n",
    "            jac[i, 1] = exp(-x[5] * (t[i] - x[8]) ** 2)\n",
    "            jac[i, 2] = exp(-x[7] * (t[i] - x[9]) ** 2)\n",
    "            jac[i, 3] = exp(-x[7] * (t[i] - x[10]) ** 2)\n",
    "            jac[i, 4] = - t[i] * x[0] * exp(-x[4] * t[i])\n",
    "            jac[i, 5] = - (t[i] - x[8]) ** 2 * x[1] * exp(-x[5] * (t[i] - x[8]) ** 2)\n",
    "            jac[i, 6] = - (t[i] - x[9]) ** 2 * x[2] * exp(-x[6] * (t[i] - x[9]) ** 2)\n",
    "            jac[i, 7] = - (t[i] - x[10]) ** 2 * x[3] * exp(-x[7] * (t[i] - x[10]) ** 2)\n",
    "            jac[i, 8] = 2.0 * x[5] * (t[i] - x[8]) * x[1] * exp(-x[5] * (t[i] - x[8]) ** 2)\n",
    "            jac[i, 9] = 2.0 * x[6] * (t[i] - x[9]) * x[2] * exp(-x[6] * (t[i] - x[9]) ** 2)\n",
    "            jac[i, 10] = 2.0 ** x[7] * (t[i] - x[10]) * x[3] * exp(-x[7] * (t[i] - x[10]) ** 2)\n",
    "    return jac"
   ],
   "metadata": {
    "collapsed": false,
    "pycharm": {
     "name": "#%%\n"
    }
   }
  },
  {
   "cell_type": "markdown",
   "source": [
    "Next, set up the matrix $C$ and the vector $d$ for the inequality constraint.\n"
   ],
   "metadata": {
    "collapsed": false,
    "pycharm": {
     "name": "#%% md\n"
    }
   }
  },
  {
   "cell_type": "code",
   "execution_count": 54,
   "outputs": [],
   "source": [
    "C = np.zeros((2, n))\n",
    "C[0, 0] = 1.0\n",
    "C[0, 1] = 2.0\n",
    "C[0, 3] = 3.0\n",
    "C[0, 4] = 4.0\n",
    "C[1, 0] = 1.0\n",
    "C[1, 2] = 1.0\n",
    "d = np.array([6.270063, 1.741584])"
   ],
   "metadata": {
    "collapsed": false,
    "pycharm": {
     "name": "#%%\n"
    }
   }
  },
  {
   "cell_type": "markdown",
   "source": [
    "As initial guess, we use the canonical starting value from the cited paper:"
   ],
   "metadata": {
    "collapsed": false,
    "pycharm": {
     "name": "#%% md\n"
    }
   }
  },
  {
   "cell_type": "code",
   "execution_count": 55,
   "outputs": [],
   "source": [
    "x_start = np.array([1.3, 0.65, 0.65, 0.7, 0.6, 3.0, 5.0, 7.0, 2.0, 4.5, 4.5])"
   ],
   "metadata": {
    "collapsed": false,
    "pycharm": {
     "name": "#%%\n"
    }
   }
  },
  {
   "cell_type": "markdown",
   "source": [
    "With this, we have now all the ingredients to set up our ``cgn.Problem``."
   ],
   "metadata": {
    "collapsed": false,
    "pycharm": {
     "name": "#%% md\n"
    }
   }
  },
  {
   "cell_type": "code",
   "execution_count": 56,
   "outputs": [],
   "source": [
    "import cgn\n",
    "\n",
    "x = cgn.Parameter(start=x_start, name=\"x\")\n",
    "incon = cgn.LinearConstraint(parameters=[x], a=C, b=d, ctype=\"ineq\")\n",
    "\n",
    "# Define the misfit function.\n",
    "def F(x):\n",
    "    return G(x) - y\n",
    "# Note that DF(x) = DG(x).\n",
    "problem = cgn.Problem(parameters=[x], fun=F, jac=DG, constraints=[incon])"
   ],
   "metadata": {
    "collapsed": false,
    "pycharm": {
     "name": "#%%\n"
    }
   }
  },
  {
   "cell_type": "markdown",
   "source": [
    "To stabilize the problem, we add very mild regularization to $x$:"
   ],
   "metadata": {
    "collapsed": false,
    "pycharm": {
     "name": "#%% md\n"
    }
   }
  },
  {
   "cell_type": "code",
   "execution_count": 57,
   "outputs": [],
   "source": [
    "x.beta = 1e-10"
   ],
   "metadata": {
    "collapsed": false,
    "pycharm": {
     "name": "#%%\n"
    }
   }
  },
  {
   "cell_type": "markdown",
   "source": [
    "Now, we can solve this problem with ``cgn``:"
   ],
   "metadata": {
    "collapsed": false,
    "pycharm": {
     "name": "#%% md\n"
    }
   }
  },
  {
   "cell_type": "code",
   "execution_count": 58,
   "outputs": [
    {
     "name": "stderr",
     "output_type": "stream",
     "text": [
      "\n",
      "\n",
      "Starting the constrained Gauss-Newton method. Cost at starting value: 3.5135292586674707\n",
      "+-----------+-------------------------+-------------------------+-------------------------+-------------------------+-------------------------+\n",
      "| Iteration | Cost                    | Constraint violation    | Stepsize (||p||)        | Steplength (h)          | Computation time [s]    |\n",
      "+-----------+-------------------------+-------------------------+-------------------------+-------------------------+-------------------------+\n",
      "+-----------+-------------------------+-------------------------+-------------------------+-------------------------+-------------------------+\n",
      "|     1     |    2.019268940326675    |           0.0           |    51.54989970703435    |          0.125          |   0.00884699821472168   |\n",
      "+-----------+-------------------------+-------------------------+-------------------------+-------------------------+-------------------------+\n",
      "|     2     |    0.6954282969801624   |           0.0           |    3.3073048651426173   |           0.5           |   0.008187055587768555  |\n",
      "+-----------+-------------------------+-------------------------+-------------------------+-------------------------+-------------------------+\n",
      "|     3     |    0.4420586847580506   |           0.0           |    8.638709316493241    |           1.0           |  0.0075435638427734375  |\n",
      "+-----------+-------------------------+-------------------------+-------------------------+-------------------------+-------------------------+\n",
      "|     4     |   0.27582424064716105   |           0.0           |    2.487560734439137    |           0.5           |   0.007577180862426758  |\n",
      "+-----------+-------------------------+-------------------------+-------------------------+-------------------------+-------------------------+\n",
      "|     5     |   0.27212108162643117   |           0.0           |    3.9421083506802677   |           0.25          |   0.00842905044555664   |\n",
      "+-----------+-------------------------+-------------------------+-------------------------+-------------------------+-------------------------+\n",
      "|     6     |   0.26265653545123335   |           0.0           |    5.363933340445492    |          0.125          |   0.008588790893554688  |\n",
      "+-----------+-------------------------+-------------------------+-------------------------+-------------------------+-------------------------+\n",
      "|     7     |    0.2462090755870182   |           0.0           |    6.0141071189406485   |          0.125          |   0.008092164993286133  |\n",
      "+-----------+-------------------------+-------------------------+-------------------------+-------------------------+-------------------------+\n",
      "|     8     |    0.2225186961624837   |           0.0           |    4.385528791791924    |          0.125          |   0.00864100456237793   |\n",
      "+-----------+-------------------------+-------------------------+-------------------------+-------------------------+-------------------------+\n",
      "|     9     |   0.19269467016533398   |           0.0           |    3.1079442522847054   |           0.25          |   0.008608818054199219  |\n",
      "+-----------+-------------------------+-------------------------+-------------------------+-------------------------+-------------------------+\n",
      "|     10    |   0.14872824443532617   |           0.0           |    2.5343909574294075   |           0.5           |   0.00801706314086914   |\n",
      "+-----------+-------------------------+-------------------------+-------------------------+-------------------------+-------------------------+\n",
      "|     11    |   0.03637188504832242   |           0.0           |    1.5181675624419728   |           1.0           |   0.007222414016723633  |\n",
      "+-----------+-------------------------+-------------------------+-------------------------+-------------------------+-------------------------+\n",
      "|     12    |   0.02043640097632607   |           0.0           |    0.5247607073097263   |           1.0           |   0.008041620254516602  |\n",
      "+-----------+-------------------------+-------------------------+-------------------------+-------------------------+-------------------------+\n",
      "|     13    |   0.020291106445352314  |           0.0           |   0.13018249760537745   |           1.0           |   0.00728607177734375   |\n",
      "+-----------+-------------------------+-------------------------+-------------------------+-------------------------+-------------------------+\n",
      "|     14    |   0.02028813024928513   |           0.0           |   0.05609490799951392   |           1.0           |   0.007730722427368164  |\n",
      "+-----------+-------------------------+-------------------------+-------------------------+-------------------------+-------------------------+\n",
      "|     15    |   0.020288130249285115  |           0.0           |   0.020203843392749696  |  9.094947017729282e-13  |   0.017717599868774414  |\n",
      "+-----------+-------------------------+-------------------------+-------------------------+-------------------------+-------------------------+\n",
      "The iteration converged successfully after 15 steps.\n",
      "Minimum of cost function: 0.020288130249285115\n"
     ]
    }
   ],
   "source": [
    "solver = cgn.CGN()\n",
    "# Let the solver return some output:\n",
    "solver.options.set_verbosity(lvl=2)\n",
    "solution = solver.solve(problem=problem)"
   ],
   "metadata": {
    "collapsed": false,
    "pycharm": {
     "name": "#%%\n"
    }
   }
  },
  {
   "cell_type": "markdown",
   "source": [
    "Let's check how our solution compares to the theoretical optimum:"
   ],
   "metadata": {
    "collapsed": false,
    "pycharm": {
     "name": "#%% md\n"
    }
   }
  },
  {
   "cell_type": "code",
   "execution_count": 59,
   "outputs": [
    {
     "data": {
      "text/plain": "0.020288130249285115"
     },
     "execution_count": 59,
     "metadata": {},
     "output_type": "execute_result"
    }
   ],
   "source": [
    "theoretical_minimum = 4.01377e-2\n",
    "solution.cost"
   ],
   "metadata": {
    "collapsed": false,
    "pycharm": {
     "name": "#%%\n"
    }
   }
  },
  {
   "cell_type": "markdown",
   "source": [
    "Wait, this is below the theoretical optimum! What's wrong? Well, recall that ``cgn`` uses the cost function\n",
    "$\n",
    "J(x) = \\frac{1}{2} ||F(x)||_2^2 + \\frac{\\beta}{2} ||R(x-m)||_2^2.\n",
    "$\n",
    "Hence, we need to multiply this by $2$ to get the desired quantity:"
   ],
   "metadata": {
    "collapsed": false,
    "pycharm": {
     "name": "#%% md\n"
    }
   }
  },
  {
   "cell_type": "code",
   "execution_count": 60,
   "outputs": [
    {
     "data": {
      "text/plain": "0.04057626049857023"
     },
     "execution_count": 60,
     "metadata": {},
     "output_type": "execute_result"
    }
   ],
   "source": [
    "2 * solution.cost"
   ],
   "metadata": {
    "collapsed": false,
    "pycharm": {
     "name": "#%%\n"
    }
   }
  },
  {
   "cell_type": "markdown",
   "source": [
    "This is satisfyingly close to the theoretical optimum."
   ],
   "metadata": {
    "collapsed": false,
    "pycharm": {
     "name": "#%% md\n"
    }
   }
  }
 ],
 "metadata": {
  "kernelspec": {
   "display_name": "Python 3",
   "language": "python",
   "name": "python3"
  },
  "language_info": {
   "codemirror_mode": {
    "name": "ipython",
    "version": 2
   },
   "file_extension": ".py",
   "mimetype": "text/x-python",
   "name": "python",
   "nbconvert_exporter": "python",
   "pygments_lexer": "ipython2",
   "version": "2.7.6"
  }
 },
 "nbformat": 4,
 "nbformat_minor": 0
}